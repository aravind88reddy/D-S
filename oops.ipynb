{
 "cells": [
  {
   "cell_type": "code",
   "execution_count": 2,
   "id": "59ab8773",
   "metadata": {},
   "outputs": [
    {
     "name": "stdout",
     "output_type": "stream",
     "text": [
      "comment is herer\n",
      "<class '__main__.first'>\n",
      "Help on class first in module __main__:\n",
      "\n",
      "class first(builtins.object)\n",
      " |  comment is herer\n",
      " |  \n",
      " |  Data descriptors defined here:\n",
      " |  \n",
      " |  __dict__\n",
      " |      dictionary for instance variables (if defined)\n",
      " |  \n",
      " |  __weakref__\n",
      " |      list of weak references to the object (if defined)\n",
      "\n"
     ]
    }
   ],
   "source": [
    "class first:\n",
    "    '''comment is herer'''\n",
    "    pass\n",
    "print(first.__doc__)\n",
    "help(first)"
   ]
  },
  {
   "cell_type": "code",
   "execution_count": null,
   "id": "b7ae8b69",
   "metadata": {},
   "outputs": [],
   "source": [
    "ref_var = first()"
   ]
  },
  {
   "cell_type": "code",
   "execution_count": null,
   "id": "8b7a7952",
   "metadata": {},
   "outputs": [],
   "source": [
    "class heloo:\n",
    "    '''thid '''\n",
    "    def display(self):\n",
    "        print('hello world')\n",
    "h = heloo()\n",
    "h.display()"
   ]
  },
  {
   "cell_type": "code",
   "execution_count": null,
   "id": "0112f8ae",
   "metadata": {},
   "outputs": [],
   "source": [
    "class HelloWorld:\n",
    "    '''This is my Hello World class'''\n",
    "    \n",
    "    def __init__(self):\n",
    "        print(\"Constructor called.\")\n",
    "    \n",
    "    def display(self):\n",
    "        print('Hello World')\n",
    "        \n",
    "h = HelloWorld()\n",
    "\n",
    "h.display()"
   ]
  },
  {
   "cell_type": "code",
   "execution_count": 1,
   "id": "db1d8e73",
   "metadata": {},
   "outputs": [
    {
     "name": "stdout",
     "output_type": "stream",
     "text": [
      "abd 1 65\n"
     ]
    }
   ],
   "source": [
    "class student:\n",
    "    def __init__(self):\n",
    "        self.name='abd'\n",
    "        self.rollno=1\n",
    "        self.marks=65\n",
    "s1 = student()\n",
    "print(s1.name,s1.rollno,s1.marks)"
   ]
  },
  {
   "cell_type": "code",
   "execution_count": 2,
   "id": "638db0db",
   "metadata": {},
   "outputs": [
    {
     "name": "stdout",
     "output_type": "stream",
     "text": [
      "abd 1 65\n"
     ]
    }
   ],
   "source": [
    "s2 =student()\n",
    "print(s2.name,s2.rollno,s2.marks)"
   ]
  },
  {
   "cell_type": "code",
   "execution_count": 3,
   "id": "17863c1f",
   "metadata": {},
   "outputs": [
    {
     "name": "stdout",
     "output_type": "stream",
     "text": [
      "abd 2 65\n"
     ]
    }
   ],
   "source": [
    "s2.rollno = 2\n",
    "print(s2.name,s2.rollno,s2.marks)"
   ]
  },
  {
   "cell_type": "code",
   "execution_count": 10,
   "id": "a99a7497",
   "metadata": {},
   "outputs": [],
   "source": [
    "class student:\n",
    "    def __init__(self):\n",
    "        self.name='abd'\n",
    "        self.rollno=1\n",
    "        self.marks=65\n",
    "        \n",
    "    def display(self):\n",
    "        print(self.name,self.rollno,self.marks) "
   ]
  },
  {
   "cell_type": "code",
   "execution_count": 11,
   "id": "fb9115d4",
   "metadata": {},
   "outputs": [],
   "source": [
    "s1 = student()\n",
    "print(s1.name,s1.rollno,s1.marks)\n"
   ]
  },
  {
   "cell_type": "code",
   "execution_count": null,
   "id": "4e8eaa5c",
   "metadata": {},
   "outputs": [],
   "source": [
    "# exception\n",
    "\n",
    " "
   ]
  },
  {
   "cell_type": "code",
   "execution_count": 4,
   "id": "445c3964",
   "metadata": {},
   "outputs": [
    {
     "name": "stdout",
     "output_type": "stream",
     "text": [
      "2.0\n",
      "heloo\n"
     ]
    }
   ],
   "source": [
    "try:\n",
    "    print(1/0)\n",
    "except:\n",
    "    print(10/5)\n",
    "    \n",
    "print('heloo')"
   ]
  },
  {
   "cell_type": "code",
   "execution_count": 6,
   "id": "1d5c8148",
   "metadata": {},
   "outputs": [
    {
     "name": "stdout",
     "output_type": "stream",
     "text": [
      "first1\n",
      "secondone\n",
      "enter a number\n",
      "ans 0.5\n"
     ]
    }
   ],
   "source": [
    "try:\n",
    "    x_1 = int(input('first'))\n",
    "    x_2 = int(input('second'))\n",
    "except:\n",
    "    print('enter a number')\n",
    "print('ans',x_1/x_2)"
   ]
  },
  {
   "cell_type": "code",
   "execution_count": null,
   "id": "1274f5e2",
   "metadata": {},
   "outputs": [],
   "source": []
  },
  {
   "cell_type": "code",
   "execution_count": null,
   "id": "f3bc55d5",
   "metadata": {},
   "outputs": [],
   "source": []
  },
  {
   "cell_type": "code",
   "execution_count": null,
   "id": "eccd41ae",
   "metadata": {},
   "outputs": [],
   "source": []
  },
  {
   "cell_type": "code",
   "execution_count": null,
   "id": "c6caa96e",
   "metadata": {},
   "outputs": [],
   "source": []
  },
  {
   "cell_type": "code",
   "execution_count": null,
   "id": "fbafc55f",
   "metadata": {},
   "outputs": [],
   "source": []
  },
  {
   "cell_type": "code",
   "execution_count": null,
   "id": "c7590fd8",
   "metadata": {},
   "outputs": [],
   "source": []
  }
 ],
 "metadata": {
  "kernelspec": {
   "display_name": "Python 3 (ipykernel)",
   "language": "python",
   "name": "python3"
  },
  "language_info": {
   "codemirror_mode": {
    "name": "ipython",
    "version": 3
   },
   "file_extension": ".py",
   "mimetype": "text/x-python",
   "name": "python",
   "nbconvert_exporter": "python",
   "pygments_lexer": "ipython3",
   "version": "3.9.10"
  }
 },
 "nbformat": 4,
 "nbformat_minor": 5
}
