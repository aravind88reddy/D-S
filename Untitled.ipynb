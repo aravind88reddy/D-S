{
 "cells": [
  {
   "cell_type": "code",
   "execution_count": 45,
   "id": "6d959995",
   "metadata": {},
   "outputs": [],
   "source": [
    "class temperature:\n",
    "    def __init__(self,fdegree,cdegree):\n",
    "        self.fdegree = fdegree\n",
    "        self.cdegree = cdegree\n",
    "\n",
    "#(0°C × 9/5) + 32 = 32°F\n",
    "    def c2f(cdegree):\n",
    "        a = cdegree*(9/5)+32\n",
    "        print('{} celcius in farenhiet is {}°F'.format(cdegree,a))\n",
    "    \n",
    "    def f2c(fdegree):\n",
    "        b= (fdegree-32)*(5/9)\n",
    "        print('{} farenheit in celcius is {}°C'.format(fdegree,b))\n",
    "\n",
    "#t = temperature()"
   ]
  },
  {
   "cell_type": "code",
   "execution_count": 46,
   "id": "0a36657a",
   "metadata": {},
   "outputs": [
    {
     "name": "stdout",
     "output_type": "stream",
     "text": [
      "9 celcius in farenhiet is 48.2°F\n"
     ]
    }
   ],
   "source": [
    "temperature.c2f(9)"
   ]
  },
  {
   "cell_type": "code",
   "execution_count": 47,
   "id": "b2cf759f",
   "metadata": {},
   "outputs": [
    {
     "name": "stdout",
     "output_type": "stream",
     "text": [
      "100 farenheit in celcius is 37.77777777777778°C\n"
     ]
    }
   ],
   "source": [
    "temperature.f2c(100)\n",
    "    "
   ]
  },
  {
   "cell_type": "code",
   "execution_count": 2,
   "id": "40ec5094",
   "metadata": {},
   "outputs": [
    {
     "name": "stdout",
     "output_type": "stream",
     "text": [
      "sirf sony max par\n"
     ]
    }
   ],
   "source": [
    "kana()"
   ]
  },
  {
   "cell_type": "code",
   "execution_count": 6,
   "id": "b9bbd927",
   "metadata": {},
   "outputs": [
    {
     "name": "stdout",
     "output_type": "stream",
     "text": [
      "abc\n",
      "None\n"
     ]
    }
   ],
   "source": [
    "print(print('abc'))"
   ]
  },
  {
   "cell_type": "code",
   "execution_count": 8,
   "id": "f2d4f8b8",
   "metadata": {},
   "outputs": [
    {
     "name": "stdout",
     "output_type": "stream",
     "text": [
      "\n",
      "None\n"
     ]
    }
   ],
   "source": [
    "print(print())"
   ]
  },
  {
   "cell_type": "code",
   "execution_count": 1,
   "id": "c0eb09c2",
   "metadata": {},
   "outputs": [
    {
     "name": "stdout",
     "output_type": "stream",
     "text": [
      "started\n"
     ]
    }
   ],
   "source": [
    "print('started')"
   ]
  },
  {
   "cell_type": "code",
   "execution_count": 1,
   "id": "d50259a8",
   "metadata": {},
   "outputs": [],
   "source": [
    "a = [1,2,3,4,56]"
   ]
  },
  {
   "cell_type": "code",
   "execution_count": 8,
   "id": "0ca7efc9",
   "metadata": {},
   "outputs": [
    {
     "name": "stdout",
     "output_type": "stream",
     "text": [
      "1\n",
      "2\n",
      "3\n",
      "4\n",
      "56\n"
     ]
    }
   ],
   "source": [
    "for i in a:\n",
    "    print(i)"
   ]
  },
  {
   "cell_type": "code",
   "execution_count": 4,
   "id": "6af825b9",
   "metadata": {},
   "outputs": [
    {
     "ename": "SyntaxError",
     "evalue": "invalid syntax (1629028018.py, line 4)",
     "output_type": "error",
     "traceback": [
      "\u001b[1;36m  Input \u001b[1;32mIn [4]\u001b[1;36m\u001b[0m\n\u001b[1;33m    if i+(for j in nums) = target:\u001b[0m\n\u001b[1;37m          ^\u001b[0m\n\u001b[1;31mSyntaxError\u001b[0m\u001b[1;31m:\u001b[0m invalid syntax\n"
     ]
    }
   ],
   "source": [
    "class Solution:\n",
    "    def twoSum(self, nums,target):\n",
    "        for i in nums:\n",
    "            if "
   ]
  },
  {
   "cell_type": "code",
   "execution_count": null,
   "id": "af9ddda6",
   "metadata": {},
   "outputs": [],
   "source": []
  }
 ],
 "metadata": {
  "kernelspec": {
   "display_name": "Python 3 (ipykernel)",
   "language": "python",
   "name": "python3"
  },
  "language_info": {
   "codemirror_mode": {
    "name": "ipython",
    "version": 3
   },
   "file_extension": ".py",
   "mimetype": "text/x-python",
   "name": "python",
   "nbconvert_exporter": "python",
   "pygments_lexer": "ipython3",
   "version": "3.9.10"
  }
 },
 "nbformat": 4,
 "nbformat_minor": 5
}
