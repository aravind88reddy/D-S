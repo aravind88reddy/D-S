{
 "cells": [
  {
   "cell_type": "code",
   "execution_count": 3,
   "id": "567aadae",
   "metadata": {},
   "outputs": [],
   "source": [
    "import numpy as np\n",
    "import pandas as pd\n",
    "\n",
    "import requests\n",
    "from bs4 import BeautifulSoup\n",
    "\n",
    "company = []\n",
    "rating = []\n",
    "vote = []\n",
    "address = []\n",
    "\n",
    "for i in range(1,2):\n",
    "    URL = 'https://www.justdial.com/Mumbai/Wedding-Photographers/nct-10989300{}'. format(i)\n",
    "    \n",
    "    page = requests.get(URL)\n",
    "    htmlCode = page.text\n",
    "    \n",
    "    soup = BeautifulSoup(htmlCode)\n",
    "    \n",
    "    for x in soup.find_all('li', attrs={'class' : 'cntanr'}):\n",
    "\n",
    "        companies = x.find('h2', attrs={'class' : 'store-name'})\n",
    "        if companies is None:\n",
    "            title.append(np.NaN)\n",
    "        else:\n",
    "            title.append(company.text)\n",
    "\n",
    "        ratings = x.find('span', attrs={'class' : 'green-box'})\n",
    "        if ratings is None:\n",
    "            price.append(np.NaN)\n",
    "        else:\n",
    "            price.append(rating.text)\n",
    "\n",
    "        votes = x.find('span', attrs={'class' : 'rt_count lng_vote'})\n",
    "        if votes is None:\n",
    "            rating.append(np.NaN)\n",
    "        else:\n",
    "            rating.append(vote.text)\n",
    "\n",
    "        add = x.find('span', attrs={'class' : 'adWidth cont_sw_addr'})\n",
    "        if add is None:\n",
    "            features.append(np.NaN)\n",
    "        else:\n",
    "            features.append(address.text)"
   ]
  },
  {
   "cell_type": "code",
   "execution_count": 4,
   "id": "2bb0bae0",
   "metadata": {},
   "outputs": [
    {
     "name": "stdout",
     "output_type": "stream",
     "text": [
      "0\n",
      "0\n",
      "0\n",
      "0\n"
     ]
    }
   ],
   "source": [
    "print(len(company))\n",
    "print(len(rating))\n",
    "print(len(vote))\n",
    "print(len(address))"
   ]
  },
  {
   "cell_type": "code",
   "execution_count": null,
   "id": "41180e3f",
   "metadata": {},
   "outputs": [],
   "source": []
  }
 ],
 "metadata": {
  "kernelspec": {
   "display_name": "Python 3",
   "language": "python",
   "name": "python3"
  },
  "language_info": {
   "codemirror_mode": {
    "name": "ipython",
    "version": 3
   },
   "file_extension": ".py",
   "mimetype": "text/x-python",
   "name": "python",
   "nbconvert_exporter": "python",
   "pygments_lexer": "ipython3",
   "version": "3.8.8"
  }
 },
 "nbformat": 4,
 "nbformat_minor": 5
}
