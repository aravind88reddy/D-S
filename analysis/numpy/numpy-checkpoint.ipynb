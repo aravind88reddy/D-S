{
 "cells": [
  {
   "cell_type": "code",
   "execution_count": 3,
   "id": "c8921d6b",
   "metadata": {
    "scrolled": true
   },
   "outputs": [
    {
     "name": "stdout",
     "output_type": "stream",
     "text": [
      "[1 2 3 4 5 6]\n"
     ]
    }
   ],
   "source": [
    "import numpy as np\n",
    "arr = np.array([1,2,3,4,5,6])\n",
    "print(arr)"
   ]
  },
  {
   "cell_type": "code",
   "execution_count": 7,
   "id": "befce687",
   "metadata": {},
   "outputs": [
    {
     "name": "stdout",
     "output_type": "stream",
     "text": [
      "[[0. 0. 0.]\n",
      " [0. 0. 0.]\n",
      " [0. 0. 0.]]\n",
      "[0 1 2 3 4 5 6 7 8 9]\n"
     ]
    }
   ],
   "source": [
    "arr = np.zeros((3,3))\n",
    "print(arr)\n",
    "arr1 = np.arange(10)\n",
    "print(arr1)q"
   ]
  },
  {
   "cell_type": "code",
   "execution_count": 13,
   "id": "93c32a4b",
   "metadata": {},
   "outputs": [
    {
     "name": "stdout",
     "output_type": "stream",
     "text": [
      "[1 2 3 4 5 6 7 8]\n",
      "[[1 2 3 4]\n",
      " [9 8 8 7]]\n"
     ]
    }
   ],
   "source": [
    "arr = np.array([1,2,3,4,5,6,7,8])\n",
    "print(arr)\n",
    "arr = np.array([[1,2,3,4],[9,8,8,7]])\n",
    "print(arr)"
   ]
  },
  {
   "cell_type": "code",
   "execution_count": 16,
   "id": "5eb54d60",
   "metadata": {},
   "outputs": [
    {
     "name": "stdout",
     "output_type": "stream",
     "text": [
      "[0.9216948  0.21524199 0.43767939 0.79129613]\n"
     ]
    }
   ],
   "source": [
    "print(np.random.rand(4))"
   ]
  },
  {
   "cell_type": "code",
   "execution_count": 17,
   "id": "33b0c8c9",
   "metadata": {},
   "outputs": [
    {
     "name": "stdout",
     "output_type": "stream",
     "text": [
      "[[ 0.05159418 -1.5796488  -0.91799027  0.54588065]\n",
      " [ 1.18187051  0.55789351  0.87011982 -0.08583097]\n",
      " [-2.14026059 -0.2240512  -0.13485758 -0.48405429]\n",
      " [ 1.21648998 -0.15331551  0.33645813  0.20684708]\n",
      " [ 1.73235673 -0.49675453 -1.64511458 -0.90555248]]\n"
     ]
    }
   ],
   "source": [
    "print(np.random.randn(5, 4))"
   ]
  },
  {
   "cell_type": "code",
   "execution_count": 18,
   "id": "a13214d5",
   "metadata": {},
   "outputs": [
    {
     "name": "stdout",
     "output_type": "stream",
     "text": [
      "[[1 4 3 9]\n",
      " [9 0 3 7]\n",
      " [6 8 4 7]\n",
      " [4 0 6 3]\n",
      " [3 7 9 9]]\n"
     ]
    }
   ],
   "source": [
    "print(np.random.randint(10, size = (5, 4)))"
   ]
  },
  {
   "cell_type": "code",
   "execution_count": 4,
   "id": "4ae47bc9",
   "metadata": {},
   "outputs": [
    {
     "name": "stdout",
     "output_type": "stream",
     "text": [
      "(45,)\n"
     ]
    }
   ],
   "source": [
    "arr = np.arange(5, 50)\n",
    "\n",
    "print(arr.shape)"
   ]
  },
  {
   "cell_type": "code",
   "execution_count": 5,
   "id": "291543ca",
   "metadata": {},
   "outputs": [
    {
     "name": "stdout",
     "output_type": "stream",
     "text": [
      "[[ 5  6  7  8  9 10 11 12 13]\n",
      " [14 15 16 17 18 19 20 21 22]\n",
      " [23 24 25 26 27 28 29 30 31]\n",
      " [32 33 34 35 36 37 38 39 40]\n",
      " [41 42 43 44 45 46 47 48 49]]\n"
     ]
    }
   ],
   "source": [
    "print(arr.reshape(5, 9))"
   ]
  },
  {
   "cell_type": "code",
   "execution_count": 8,
   "id": "cb3fd6c3",
   "metadata": {},
   "outputs": [
    {
     "name": "stdout",
     "output_type": "stream",
     "text": [
      "[[[ 5  6  7  8  9]\n",
      "  [10 11 12 13 14]\n",
      "  [15 16 17 18 19]]\n",
      "\n",
      " [[20 21 22 23 24]\n",
      "  [25 26 27 28 29]\n",
      "  [30 31 32 33 34]]\n",
      "\n",
      " [[35 36 37 38 39]\n",
      "  [40 41 42 43 44]\n",
      "  [45 46 47 48 49]]]\n"
     ]
    }
   ],
   "source": [
    "print(arr.reshape(3, 3, 5))"
   ]
  },
  {
   "cell_type": "code",
   "execution_count": 9,
   "id": "b3a52b37",
   "metadata": {},
   "outputs": [
    {
     "name": "stdout",
     "output_type": "stream",
     "text": [
      "[[[ 5  6  7  8  9]]\n",
      "\n",
      " [[10 11 12 13 14]]\n",
      "\n",
      " [[15 16 17 18 19]]\n",
      "\n",
      " [[20 21 22 23 24]]\n",
      "\n",
      " [[25 26 27 28 29]]\n",
      "\n",
      " [[30 31 32 33 34]]\n",
      "\n",
      " [[35 36 37 38 39]]\n",
      "\n",
      " [[40 41 42 43 44]]\n",
      "\n",
      " [[45 46 47 48 49]]]\n"
     ]
    }
   ],
   "source": [
    "print(arr.reshape(9, 1, 5))"
   ]
  },
  {
   "cell_type": "code",
   "execution_count": 10,
   "id": "4e2a2c55",
   "metadata": {},
   "outputs": [
    {
     "name": "stdout",
     "output_type": "stream",
     "text": [
      "[ 5  6  7  8  9 10 11 12 13 14 15 16 17 18 19 20 21 22 23 24 25 26 27 28\n",
      " 29 30 31 32 33 34 35 36 37 38 39 40 41 42 43 44 45 46 47 48 49]\n"
     ]
    }
   ],
   "source": [
    "print(arr.flatten())"
   ]
  },
  {
   "cell_type": "code",
   "execution_count": null,
   "id": "5bf32d07",
   "metadata": {},
   "outputs": [],
   "source": []
  },
  {
   "cell_type": "code",
   "execution_count": null,
   "id": "f32f9d9d",
   "metadata": {},
   "outputs": [],
   "source": []
  },
  {
   "cell_type": "code",
   "execution_count": null,
   "id": "4b6bd8ae",
   "metadata": {},
   "outputs": [],
   "source": []
  },
  {
   "cell_type": "code",
   "execution_count": null,
   "id": "cdfa0a82",
   "metadata": {},
   "outputs": [],
   "source": []
  },
  {
   "cell_type": "code",
   "execution_count": null,
   "id": "cf948f65",
   "metadata": {},
   "outputs": [],
   "source": []
  }
 ],
 "metadata": {
  "kernelspec": {
   "display_name": "Python 3",
   "language": "python",
   "name": "python3"
  },
  "language_info": {
   "codemirror_mode": {
    "name": "ipython",
    "version": 3
   },
   "file_extension": ".py",
   "mimetype": "text/x-python",
   "name": "python",
   "nbconvert_exporter": "python",
   "pygments_lexer": "ipython3",
   "version": "3.8.8"
  }
 },
 "nbformat": 4,
 "nbformat_minor": 5
}
